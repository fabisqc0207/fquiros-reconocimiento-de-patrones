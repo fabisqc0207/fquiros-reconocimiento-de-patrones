{
 "cells": [
  {
   "cell_type": "markdown",
   "metadata": {},
   "source": [
    "# Reconocimiento de Patrones\n",
    "\n",
    "## Investigación II\n",
    "\n",
    "## Métodos de Aprendizaje Supervisado\n",
    "\n",
    "### Estudiante: Fabricio Quirós Corella\n",
    "\n",
    "#### Febrero 2019\n"
   ]
  },
  {
   "cell_type": "markdown",
   "metadata": {},
   "source": [
    "### Resumen\n",
    "\n",
    "El presente expone la implementación de una serie de métodos de aprendizaje supervisado sobre una base de datos relativa a características de una cantidad importante de muestras de audio disponibles en el servicio de *streaming* denominado Spotify, donde se pretende realizar la predición de una salida, precisamente una clase binaria que determina si cierta canción es del agrado o no del sistema pre-entrenado con un conjunto de atributos asociados a dichas piezas musicales. A continuación, se definen ciertos aspectos instroductorios al trabajo realizado, luego se exponen los detalles sobre el manejo de los sets de datos y la aplicación de cada uno de los métodos de aprendizaje supervisado, junto con sus respectivos resultados."
   ]
  },
  {
   "cell_type": "markdown",
   "metadata": {},
   "source": [
    "### Preliminares\n",
    "\n",
    "* Llamadas a librerías básicas en el análisis de datos"
   ]
  },
  {
   "cell_type": "code",
   "execution_count": null,
   "metadata": {},
   "outputs": [],
   "source": [
    "import pandas as pd\n",
    "import numpy as np\n",
    "import os\n",
    "\n",
    "import matplotlib.pyplot as plt\n",
    "from matplotlib import figure\n",
    "\n",
    "%matplotlib inline"
   ]
  },
  {
   "cell_type": "markdown",
   "metadata": {},
   "source": [
    "* Obtención de la base de datos: un set de datos de 2017 canciones con attributos de la API de Spotify  (Fuente: https://www.kaggle.com/geomack/spotifyclassification)."
   ]
  },
  {
   "cell_type": "code",
   "execution_count": 2,
   "metadata": {
    "scrolled": true
   },
   "outputs": [],
   "source": [
    "df = pd.read_csv(\"spotifyclassification.csv\").drop(columns={'Unnamed: 0'})"
   ]
  },
  {
   "cell_type": "markdown",
   "metadata": {},
   "source": [
    "* Dimensiones de la base de datos de preferencia."
   ]
  },
  {
   "cell_type": "code",
   "execution_count": 3,
   "metadata": {},
   "outputs": [
    {
     "name": "stdout",
     "output_type": "stream",
     "text": [
      "Spotify Musical Taste Classification - Data base: (2017, 16) rows/columns\n",
      "\n"
     ]
    }
   ],
   "source": [
    "print(\"Spotify Musical Taste Classification - Data base:\", df.shape, \"rows/columns\\n\")"
   ]
  },
  {
   "cell_type": "markdown",
   "metadata": {},
   "source": [
    "* Totalidad de atributos."
   ]
  },
  {
   "cell_type": "code",
   "execution_count": 4,
   "metadata": {},
   "outputs": [
    {
     "name": "stdout",
     "output_type": "stream",
     "text": [
      "<class 'pandas.core.frame.DataFrame'>\n",
      "RangeIndex: 2017 entries, 0 to 2016\n",
      "Data columns (total 16 columns):\n",
      "acousticness        2017 non-null float64\n",
      "danceability        2017 non-null float64\n",
      "duration_ms         2017 non-null int64\n",
      "energy              2017 non-null float64\n",
      "instrumentalness    2017 non-null float64\n",
      "key                 2017 non-null int64\n",
      "liveness            2017 non-null float64\n",
      "loudness            2017 non-null float64\n",
      "mode                2017 non-null int64\n",
      "speechiness         2017 non-null float64\n",
      "tempo               2017 non-null float64\n",
      "time_signature      2017 non-null float64\n",
      "valence             2017 non-null float64\n",
      "target              2017 non-null int64\n",
      "song_title          2017 non-null object\n",
      "artist              2017 non-null object\n",
      "dtypes: float64(10), int64(4), object(2)\n",
      "memory usage: 252.2+ KB\n"
     ]
    }
   ],
   "source": [
    "df.info()"
   ]
  },
  {
   "cell_type": "markdown",
   "metadata": {},
   "source": [
    "* Cada canción que se encuentra etiquetada con \"1\", implica que es del agrado del facilitador de la base de datos, mientas que si el *track* tiene un \"0\", ocurre el caso contrario."
   ]
  },
  {
   "cell_type": "code",
   "execution_count": 5,
   "metadata": {},
   "outputs": [
    {
     "data": {
      "text/html": [
       "<div>\n",
       "<style scoped>\n",
       "    .dataframe tbody tr th:only-of-type {\n",
       "        vertical-align: middle;\n",
       "    }\n",
       "\n",
       "    .dataframe tbody tr th {\n",
       "        vertical-align: top;\n",
       "    }\n",
       "\n",
       "    .dataframe thead th {\n",
       "        text-align: right;\n",
       "    }\n",
       "</style>\n",
       "<table border=\"1\" class=\"dataframe\">\n",
       "  <thead>\n",
       "    <tr style=\"text-align: right;\">\n",
       "      <th></th>\n",
       "      <th>artist</th>\n",
       "      <th>song_title</th>\n",
       "      <th>target</th>\n",
       "    </tr>\n",
       "  </thead>\n",
       "  <tbody>\n",
       "    <tr>\n",
       "      <th>1997</th>\n",
       "      <td>The Chainsmokers</td>\n",
       "      <td>Don't Let Me Down - Zomboy Remix</td>\n",
       "      <td>0</td>\n",
       "    </tr>\n",
       "    <tr>\n",
       "      <th>1998</th>\n",
       "      <td>Alan Walker</td>\n",
       "      <td>Faded - Slushii Remix</td>\n",
       "      <td>0</td>\n",
       "    </tr>\n",
       "    <tr>\n",
       "      <th>1999</th>\n",
       "      <td>Tommie Sunshine</td>\n",
       "      <td>Can't Get Enough - Pegboard Nerds Remix</td>\n",
       "      <td>0</td>\n",
       "    </tr>\n",
       "    <tr>\n",
       "      <th>2000</th>\n",
       "      <td>San Holo</td>\n",
       "      <td>Light - Loosid Remix</td>\n",
       "      <td>0</td>\n",
       "    </tr>\n",
       "    <tr>\n",
       "      <th>2001</th>\n",
       "      <td>The Chainsmokers</td>\n",
       "      <td>Something Just Like This - ARMNHMR Remix</td>\n",
       "      <td>0</td>\n",
       "    </tr>\n",
       "    <tr>\n",
       "      <th>2002</th>\n",
       "      <td>Steve Aoki</td>\n",
       "      <td>Without U</td>\n",
       "      <td>0</td>\n",
       "    </tr>\n",
       "    <tr>\n",
       "      <th>2003</th>\n",
       "      <td>Borgeous</td>\n",
       "      <td>Hold Up</td>\n",
       "      <td>0</td>\n",
       "    </tr>\n",
       "    <tr>\n",
       "      <th>2004</th>\n",
       "      <td>Lost Kings</td>\n",
       "      <td>Phone Down - Dodge &amp; Fuski Remix</td>\n",
       "      <td>0</td>\n",
       "    </tr>\n",
       "    <tr>\n",
       "      <th>2005</th>\n",
       "      <td>Elliphant</td>\n",
       "      <td>Spoon Me - Slushii Remix</td>\n",
       "      <td>0</td>\n",
       "    </tr>\n",
       "    <tr>\n",
       "      <th>2006</th>\n",
       "      <td>Martin Garrix</td>\n",
       "      <td>Scared To Be Lonely (Conro Remix)</td>\n",
       "      <td>0</td>\n",
       "    </tr>\n",
       "    <tr>\n",
       "      <th>2007</th>\n",
       "      <td>NERVO</td>\n",
       "      <td>Let It Go - Scott Melker &amp; Mister Gray Remix</td>\n",
       "      <td>0</td>\n",
       "    </tr>\n",
       "    <tr>\n",
       "      <th>2008</th>\n",
       "      <td>Starley</td>\n",
       "      <td>Call On Me - EDWYNN X TIKAL, Spirix Remix</td>\n",
       "      <td>0</td>\n",
       "    </tr>\n",
       "    <tr>\n",
       "      <th>2009</th>\n",
       "      <td>Kuuro</td>\n",
       "      <td>Aamon</td>\n",
       "      <td>0</td>\n",
       "    </tr>\n",
       "    <tr>\n",
       "      <th>2010</th>\n",
       "      <td>Dimitri Vegas &amp; Like Mike</td>\n",
       "      <td>Hey Baby - Steve Aoki Remix</td>\n",
       "      <td>0</td>\n",
       "    </tr>\n",
       "    <tr>\n",
       "      <th>2011</th>\n",
       "      <td>Icona Pop</td>\n",
       "      <td>Brightside - Borgeous Remix</td>\n",
       "      <td>0</td>\n",
       "    </tr>\n",
       "    <tr>\n",
       "      <th>2012</th>\n",
       "      <td>Kill The Noise</td>\n",
       "      <td>Like A Bitch - Kill The Noise Remix</td>\n",
       "      <td>0</td>\n",
       "    </tr>\n",
       "    <tr>\n",
       "      <th>2013</th>\n",
       "      <td>Dillon Francis</td>\n",
       "      <td>Candy</td>\n",
       "      <td>0</td>\n",
       "    </tr>\n",
       "    <tr>\n",
       "      <th>2014</th>\n",
       "      <td>Rain Man</td>\n",
       "      <td>Habit - Dack Janiels &amp; Wenzday Remix</td>\n",
       "      <td>0</td>\n",
       "    </tr>\n",
       "    <tr>\n",
       "      <th>2015</th>\n",
       "      <td>Twin Moons</td>\n",
       "      <td>First Contact</td>\n",
       "      <td>0</td>\n",
       "    </tr>\n",
       "    <tr>\n",
       "      <th>2016</th>\n",
       "      <td>Bleachers</td>\n",
       "      <td>I Wanna Get Better</td>\n",
       "      <td>0</td>\n",
       "    </tr>\n",
       "  </tbody>\n",
       "</table>\n",
       "</div>"
      ],
      "text/plain": [
       "                         artist                                    song_title  \\\n",
       "1997           The Chainsmokers              Don't Let Me Down - Zomboy Remix   \n",
       "1998                Alan Walker                         Faded - Slushii Remix   \n",
       "1999            Tommie Sunshine       Can't Get Enough - Pegboard Nerds Remix   \n",
       "2000                   San Holo                          Light - Loosid Remix   \n",
       "2001           The Chainsmokers      Something Just Like This - ARMNHMR Remix   \n",
       "2002                 Steve Aoki                                     Without U   \n",
       "2003                   Borgeous                                       Hold Up   \n",
       "2004                 Lost Kings              Phone Down - Dodge & Fuski Remix   \n",
       "2005                  Elliphant                      Spoon Me - Slushii Remix   \n",
       "2006              Martin Garrix             Scared To Be Lonely (Conro Remix)   \n",
       "2007                      NERVO  Let It Go - Scott Melker & Mister Gray Remix   \n",
       "2008                    Starley     Call On Me - EDWYNN X TIKAL, Spirix Remix   \n",
       "2009                      Kuuro                                         Aamon   \n",
       "2010  Dimitri Vegas & Like Mike                   Hey Baby - Steve Aoki Remix   \n",
       "2011                  Icona Pop                   Brightside - Borgeous Remix   \n",
       "2012             Kill The Noise           Like A Bitch - Kill The Noise Remix   \n",
       "2013             Dillon Francis                                         Candy   \n",
       "2014                   Rain Man          Habit - Dack Janiels & Wenzday Remix   \n",
       "2015                 Twin Moons                                 First Contact   \n",
       "2016                  Bleachers                            I Wanna Get Better   \n",
       "\n",
       "      target  \n",
       "1997       0  \n",
       "1998       0  \n",
       "1999       0  \n",
       "2000       0  \n",
       "2001       0  \n",
       "2002       0  \n",
       "2003       0  \n",
       "2004       0  \n",
       "2005       0  \n",
       "2006       0  \n",
       "2007       0  \n",
       "2008       0  \n",
       "2009       0  \n",
       "2010       0  \n",
       "2011       0  \n",
       "2012       0  \n",
       "2013       0  \n",
       "2014       0  \n",
       "2015       0  \n",
       "2016       0  "
      ]
     },
     "execution_count": 5,
     "metadata": {},
     "output_type": "execute_result"
    }
   ],
   "source": [
    "dislike = df.loc[df['target'] == 0]\n",
    "\n",
    "dislike[['artist','song_title', 'target']].tail(20)"
   ]
  },
  {
   "cell_type": "code",
   "execution_count": 6,
   "metadata": {},
   "outputs": [
    {
     "data": {
      "text/html": [
       "<div>\n",
       "<style scoped>\n",
       "    .dataframe tbody tr th:only-of-type {\n",
       "        vertical-align: middle;\n",
       "    }\n",
       "\n",
       "    .dataframe tbody tr th {\n",
       "        vertical-align: top;\n",
       "    }\n",
       "\n",
       "    .dataframe thead th {\n",
       "        text-align: right;\n",
       "    }\n",
       "</style>\n",
       "<table border=\"1\" class=\"dataframe\">\n",
       "  <thead>\n",
       "    <tr style=\"text-align: right;\">\n",
       "      <th></th>\n",
       "      <th>artist</th>\n",
       "      <th>song_title</th>\n",
       "      <th>target</th>\n",
       "    </tr>\n",
       "  </thead>\n",
       "  <tbody>\n",
       "    <tr>\n",
       "      <th>1000</th>\n",
       "      <td>Skepta</td>\n",
       "      <td>No Security</td>\n",
       "      <td>1</td>\n",
       "    </tr>\n",
       "    <tr>\n",
       "      <th>1001</th>\n",
       "      <td>Saskilla</td>\n",
       "      <td>Fam</td>\n",
       "      <td>1</td>\n",
       "    </tr>\n",
       "    <tr>\n",
       "      <th>1002</th>\n",
       "      <td>Stormzy</td>\n",
       "      <td>Mr Skeng</td>\n",
       "      <td>1</td>\n",
       "    </tr>\n",
       "    <tr>\n",
       "      <th>1003</th>\n",
       "      <td>Bugzy Malone</td>\n",
       "      <td>Beauty and the Beast</td>\n",
       "      <td>1</td>\n",
       "    </tr>\n",
       "    <tr>\n",
       "      <th>1004</th>\n",
       "      <td>Lethal Bizzle</td>\n",
       "      <td>I Win</td>\n",
       "      <td>1</td>\n",
       "    </tr>\n",
       "    <tr>\n",
       "      <th>1005</th>\n",
       "      <td>J HUS</td>\n",
       "      <td>Plottin</td>\n",
       "      <td>1</td>\n",
       "    </tr>\n",
       "    <tr>\n",
       "      <th>1006</th>\n",
       "      <td>Bugzy Malone</td>\n",
       "      <td>M.E.N</td>\n",
       "      <td>1</td>\n",
       "    </tr>\n",
       "    <tr>\n",
       "      <th>1007</th>\n",
       "      <td>Stormzy</td>\n",
       "      <td>Cold</td>\n",
       "      <td>1</td>\n",
       "    </tr>\n",
       "    <tr>\n",
       "      <th>1008</th>\n",
       "      <td>Jaykae</td>\n",
       "      <td>Toothache</td>\n",
       "      <td>1</td>\n",
       "    </tr>\n",
       "    <tr>\n",
       "      <th>1009</th>\n",
       "      <td>Chip</td>\n",
       "      <td>Coward</td>\n",
       "      <td>1</td>\n",
       "    </tr>\n",
       "    <tr>\n",
       "      <th>1010</th>\n",
       "      <td>Kano</td>\n",
       "      <td>3 Wheel-ups (feat. Wiley &amp; Giggs)</td>\n",
       "      <td>1</td>\n",
       "    </tr>\n",
       "    <tr>\n",
       "      <th>1011</th>\n",
       "      <td>President T</td>\n",
       "      <td>T On the Wing</td>\n",
       "      <td>1</td>\n",
       "    </tr>\n",
       "    <tr>\n",
       "      <th>1012</th>\n",
       "      <td>Stormzy</td>\n",
       "      <td>Bad Boys (feat. Ghetts and J Hus)</td>\n",
       "      <td>1</td>\n",
       "    </tr>\n",
       "    <tr>\n",
       "      <th>1013</th>\n",
       "      <td>Dave</td>\n",
       "      <td>Thiago Silva</td>\n",
       "      <td>1</td>\n",
       "    </tr>\n",
       "    <tr>\n",
       "      <th>1014</th>\n",
       "      <td>Bonkaz</td>\n",
       "      <td>And Dat (Ft. Stormzy)</td>\n",
       "      <td>1</td>\n",
       "    </tr>\n",
       "    <tr>\n",
       "      <th>1015</th>\n",
       "      <td>Wiley</td>\n",
       "      <td>6 In The Morning</td>\n",
       "      <td>1</td>\n",
       "    </tr>\n",
       "    <tr>\n",
       "      <th>1016</th>\n",
       "      <td>Drake</td>\n",
       "      <td>Skepta Interlude</td>\n",
       "      <td>1</td>\n",
       "    </tr>\n",
       "    <tr>\n",
       "      <th>1017</th>\n",
       "      <td>Jme</td>\n",
       "      <td>Man Don't Care</td>\n",
       "      <td>1</td>\n",
       "    </tr>\n",
       "    <tr>\n",
       "      <th>1018</th>\n",
       "      <td>AJ Tracey</td>\n",
       "      <td>Luke Cage</td>\n",
       "      <td>1</td>\n",
       "    </tr>\n",
       "    <tr>\n",
       "      <th>1019</th>\n",
       "      <td>Skepta</td>\n",
       "      <td>Shutdown</td>\n",
       "      <td>1</td>\n",
       "    </tr>\n",
       "  </tbody>\n",
       "</table>\n",
       "</div>"
      ],
      "text/plain": [
       "             artist                         song_title  target\n",
       "1000         Skepta                        No Security       1\n",
       "1001       Saskilla                                Fam       1\n",
       "1002        Stormzy                           Mr Skeng       1\n",
       "1003   Bugzy Malone               Beauty and the Beast       1\n",
       "1004  Lethal Bizzle                              I Win       1\n",
       "1005          J HUS                            Plottin       1\n",
       "1006   Bugzy Malone                              M.E.N       1\n",
       "1007        Stormzy                               Cold       1\n",
       "1008         Jaykae                          Toothache       1\n",
       "1009           Chip                             Coward       1\n",
       "1010           Kano  3 Wheel-ups (feat. Wiley & Giggs)       1\n",
       "1011    President T                      T On the Wing       1\n",
       "1012        Stormzy  Bad Boys (feat. Ghetts and J Hus)       1\n",
       "1013           Dave                       Thiago Silva       1\n",
       "1014         Bonkaz              And Dat (Ft. Stormzy)       1\n",
       "1015          Wiley                   6 In The Morning       1\n",
       "1016          Drake                   Skepta Interlude       1\n",
       "1017            Jme                     Man Don't Care       1\n",
       "1018      AJ Tracey                          Luke Cage       1\n",
       "1019         Skepta                           Shutdown       1"
      ]
     },
     "execution_count": 6,
     "metadata": {},
     "output_type": "execute_result"
    }
   ],
   "source": [
    "like = df.loc[df['target'] == 1]\n",
    "\n",
    "like[['artist','song_title', 'target']].tail(20)"
   ]
  },
  {
   "cell_type": "markdown",
   "metadata": {},
   "source": [
    "* La idea es construir un clasificador capaz de predecir el gusto musical a partir de una serie de atributos asociados a tales piezas."
   ]
  },
  {
   "cell_type": "markdown",
   "metadata": {},
   "source": [
    "### Manejo de set de datos\n",
    "\n",
    "* Se cargan librerías de utilidad con el propósito de conjuntar el set de entrenamiento y de pruebas"
   ]
  },
  {
   "cell_type": "code",
   "execution_count": 7,
   "metadata": {},
   "outputs": [],
   "source": [
    "from sklearn.model_selection import train_test_split\n",
    "from sklearn import preprocessing\n",
    "\n",
    "lab_enc = preprocessing.LabelEncoder()"
   ]
  },
  {
   "cell_type": "markdown",
   "metadata": {},
   "source": [
    "* Se extrae el *target* a estimar; en este caso, la preferencia sobre una canción en particular. Además, se descargan las columnas con los atributos que se muestran a continuación."
   ]
  },
  {
   "cell_type": "code",
   "execution_count": 8,
   "metadata": {},
   "outputs": [],
   "source": [
    "y=df['target']\n",
    "X=df.drop(['target', 'artist', 'song_title'], axis=1)"
   ]
  },
  {
   "cell_type": "markdown",
   "metadata": {},
   "source": [
    "* Esta base de datos cuenta con 13 atributos para las muestras de audio, son las siguientes:"
   ]
  },
  {
   "cell_type": "code",
   "execution_count": 9,
   "metadata": {},
   "outputs": [
    {
     "name": "stdout",
     "output_type": "stream",
     "text": [
      "X (Input) - Attributes:\n",
      "<class 'pandas.core.frame.DataFrame'>\n",
      "RangeIndex: 2017 entries, 0 to 2016\n",
      "Data columns (total 13 columns):\n",
      "acousticness        2017 non-null float64\n",
      "danceability        2017 non-null float64\n",
      "duration_ms         2017 non-null int64\n",
      "energy              2017 non-null float64\n",
      "instrumentalness    2017 non-null float64\n",
      "key                 2017 non-null int64\n",
      "liveness            2017 non-null float64\n",
      "loudness            2017 non-null float64\n",
      "mode                2017 non-null int64\n",
      "speechiness         2017 non-null float64\n",
      "tempo               2017 non-null float64\n",
      "time_signature      2017 non-null float64\n",
      "valence             2017 non-null float64\n",
      "dtypes: float64(10), int64(3)\n",
      "memory usage: 204.9 KB\n"
     ]
    }
   ],
   "source": [
    "print(\"X (Input) - Attributes:\")\n",
    "X.info()"
   ]
  },
  {
   "cell_type": "markdown",
   "metadata": {},
   "source": [
    "* Retorna tanto el *input-set* como el *output-set* para el entrenamiento (entradas y salidas conocidas) y ejecución de las pruebas (entradas a aplicar y salidas a estimar, datos nuevos) para el modelo."
   ]
  },
  {
   "cell_type": "code",
   "execution_count": 10,
   "metadata": {},
   "outputs": [
    {
     "name": "stdout",
     "output_type": "stream",
     "text": [
      "Training size\t:\t 1613 \n",
      "Test Size\t:\t 404\n"
     ]
    }
   ],
   "source": [
    "X_train, X_test, y_train, y_test = train_test_split(X, y, test_size=0.2)\n",
    "\n",
    "# Train/Test dataset sizes\n",
    "print(\"Training size\\t:\\t\",len(X_train),\"\\nTest Size\\t:\\t\",len(X_test))"
   ]
  },
  {
   "cell_type": "markdown",
   "metadata": {},
   "source": [
    "### 1. Clasificación: k-NN\n",
    "\n",
    "* El primer método de aprendizaje supervisado que fue tomando en cuenta corresponde al algoritmo del k-ésimo vecino más cercano, donde se considera un k=9. "
   ]
  },
  {
   "cell_type": "code",
   "execution_count": 11,
   "metadata": {},
   "outputs": [],
   "source": [
    "from sklearn.neighbors import KNeighborsClassifier\n",
    "\n",
    "# Init Train/Test Scores\n",
    "knn_clf_train_score = 0.0\n",
    "knn_clf_test_score = 0.0\n",
    "\n",
    "# Init Train/Test Accuracy\n",
    "knn_clf_train_accuracy = []\n",
    "knn_clf_test_accuracy = []"
   ]
  },
  {
   "cell_type": "markdown",
   "metadata": {},
   "source": [
    "* Empleando una cantidad de vecinos igual a 9, es posible notar que el comportamiento del modelo implementado es del tipo *underfit*, por ende es posible establecer que es necesario aplicar un modelo de mayor complejidad, por ende buscando una menor cantidad de vecinos *k*."
   ]
  },
  {
   "cell_type": "code",
   "execution_count": 12,
   "metadata": {},
   "outputs": [
    {
     "name": "stdout",
     "output_type": "stream",
     "text": [
      " --- Results: k-NN Classification --- \n",
      "\n",
      "Training score\t:\t 0.9987600743955363 \n",
      "Test score\t:\t 0.556930693069307\n",
      "\n",
      "Training score\t:\t 0.7743335399876008 \n",
      "Test score\t:\t 0.5816831683168316\n",
      "\n",
      "Training score\t:\t 0.7557346559206448 \n",
      "Test score\t:\t 0.5643564356435643\n",
      "\n",
      "Training score\t:\t 0.7086174829510229 \n",
      "Test score\t:\t 0.5767326732673267\n",
      "\n",
      "Training score\t:\t 0.7154370737755734 \n",
      "Test score\t:\t 0.5915841584158416\n",
      "\n",
      "Training score\t:\t 0.6906385616862988 \n",
      "Test score\t:\t 0.5742574257425742\n",
      "\n",
      "Training score\t:\t 0.6825790452572845 \n",
      "Test score\t:\t 0.6014851485148515\n",
      "\n",
      "Training score\t:\t 0.6701797892126472 \n",
      "Test score\t:\t 0.5767326732673267\n"
     ]
    },
    {
     "data": {
      "text/plain": [
       "<matplotlib.legend.Legend at 0x7f0c7f757da0>"
      ]
     },
     "execution_count": 12,
     "metadata": {},
     "output_type": "execute_result"
    },
    {
     "data": {
      "image/png": "[encoded data removed]",
      "text/plain": [
       "<Figure size 432x288 with 1 Axes>"
      ]
     },
     "metadata": {
      "needs_background": "light"
     },
     "output_type": "display_data"
    }
   ],
   "source": [
    "# Init k-neighbors setting\n",
    "k = 9;\n",
    "neighbors_settings = range(1,k)\n",
    "\n",
    "print(\" --- Results: k-NN Classification --- \")\n",
    "for n_neighbors in neighbors_settings:\n",
    "    # Multiclass conversion\n",
    "    y_train_enc = lab_enc.fit_transform(y_train)\n",
    "    y_test_enc = lab_enc.fit_transform(y_test)\n",
    "    \n",
    "    # Fit the model using X as training data and y as target values\n",
    "    knn_clf = KNeighborsClassifier(n_neighbors=n_neighbors).fit(X_train, y_train_enc)    \n",
    "\n",
    "    # Returns the \"training mean accuracy\" on the given test data and labels.\n",
    "    knn_clf_train_score = knn_clf.score(X_train, y_train_enc)\n",
    "    knn_clf_train_accuracy.append(knn_clf_train_score)\n",
    "    \n",
    "    # Returns the \"generalization mean accuracy\" on the given test data and labels.\n",
    "    knn_clf_test_score = knn_clf.score(X_test, y_test_enc)\n",
    "    knn_clf_test_accuracy.append(knn_clf_test_score)\n",
    "    \n",
    "    # Score displayment\n",
    "    print(\"\\nTraining score\\t:\\t\", knn_clf_train_score, \"\\nTest score\\t:\\t\", knn_clf_test_score)\n",
    "    \n",
    "# Plot accuaracy of k-NN Classifer\n",
    "plt.plot(neighbors_settings, knn_clf_train_accuracy, label=\"k-NN classifier - Train accuracy\")\n",
    "plt.plot(neighbors_settings, knn_clf_test_accuracy, label=\"k-NN classifier - Test accuracy\")\n",
    "plt.ylabel(\"Accuracy - k-NN generalization\")\n",
    "plt.xlabel(\"n_neighbors\")\n",
    "plt.legend()"
   ]
  },
  {
   "cell_type": "markdown",
   "metadata": {},
   "source": [
    "### 2. Clasificación: Logistic Regression\n",
    "\n",
    "* A pesar de su nombre, *Logistic Regression* es un modelo lineal de aprendizaje supervisado para la clasificación. A continuación, se ejecuta la inicialización respectiva."
   ]
  },
  {
   "cell_type": "code",
   "execution_count": 13,
   "metadata": {},
   "outputs": [],
   "source": [
    "from sklearn.linear_model import LogisticRegression\n",
    "\n",
    "# Model Range\n",
    "C = 20\n",
    "lr_range = range(1, C)\n",
    "\n",
    "# Init Train/Test Scores\n",
    "lr_clf_train_score = 0.0\n",
    "lr_clf_test_score = 0.0\n",
    "\n",
    "# Init Train/Test Accuracy\n",
    "lr_clf_train_accuracy = []\n",
    "lr_clf_test_accuracy = []"
   ]
  },
  {
   "cell_type": "markdown",
   "metadata": {},
   "source": [
    "* Gráfico del training score vs test score para diversos valores de **C.** En este análisis, es posible notar que a pesar de aplicar un barrido en valores de **C**, el clasificador de *Logistic Regression* mantiene un comportamiento *underfit*."
   ]
  },
  {
   "cell_type": "code",
   "execution_count": 14,
   "metadata": {},
   "outputs": [
    {
     "name": "stdout",
     "output_type": "stream",
     "text": [
      "\n",
      "Training score\t:\t 0.5399876007439554 \n",
      "Test score\t:\t 0.5371287128712872\n",
      "\n",
      "Training score\t:\t 0.5399876007439554 \n",
      "Test score\t:\t 0.5371287128712872\n",
      "\n",
      "Training score\t:\t 0.5399876007439554 \n",
      "Test score\t:\t 0.5371287128712872\n",
      "\n",
      "Training score\t:\t 0.5399876007439554 \n",
      "Test score\t:\t 0.5371287128712872\n",
      "\n",
      "Training score\t:\t 0.5399876007439554 \n",
      "Test score\t:\t 0.5371287128712872\n",
      "\n",
      "Training score\t:\t 0.5399876007439554 \n",
      "Test score\t:\t 0.5371287128712872\n",
      "\n",
      "Training score\t:\t 0.5399876007439554 \n",
      "Test score\t:\t 0.5371287128712872\n",
      "\n",
      "Training score\t:\t 0.5399876007439554 \n",
      "Test score\t:\t 0.5371287128712872\n",
      "\n",
      "Training score\t:\t 0.5399876007439554 \n",
      "Test score\t:\t 0.5371287128712872\n",
      "\n",
      "Training score\t:\t 0.5399876007439554 \n",
      "Test score\t:\t 0.5371287128712872\n",
      "\n",
      "Training score\t:\t 0.5399876007439554 \n",
      "Test score\t:\t 0.5371287128712872\n",
      "\n",
      "Training score\t:\t 0.5399876007439554 \n",
      "Test score\t:\t 0.5371287128712872\n",
      "\n",
      "Training score\t:\t 0.5399876007439554 \n",
      "Test score\t:\t 0.5371287128712872\n",
      "\n",
      "Training score\t:\t 0.5399876007439554 \n",
      "Test score\t:\t 0.5371287128712872\n",
      "\n",
      "Training score\t:\t 0.5399876007439554 \n",
      "Test score\t:\t 0.5371287128712872\n",
      "\n",
      "Training score\t:\t 0.5399876007439554 \n",
      "Test score\t:\t 0.5371287128712872\n",
      "\n",
      "Training score\t:\t 0.5399876007439554 \n",
      "Test score\t:\t 0.5371287128712872\n",
      "\n",
      "Training score\t:\t 0.5399876007439554 \n",
      "Test score\t:\t 0.5371287128712872\n",
      "\n",
      "Training score\t:\t 0.5399876007439554 \n",
      "Test score\t:\t 0.5371287128712872\n"
     ]
    },
    {
     "data": {
      "text/plain": [
       "<matplotlib.legend.Legend at 0x7f0c7f6d2278>"
      ]
     },
     "execution_count": 14,
     "metadata": {},
     "output_type": "execute_result"
    },
    {
     "data": {
      "image/png": "[encoded data removed]",
      "text/plain": [
       "<Figure size 432x288 with 1 Axes>"
      ]
     },
     "metadata": {
      "needs_background": "light"
     },
     "output_type": "display_data"
    }
   ],
   "source": [
    "for c in lr_range:\n",
    "    # Multiclass conversion\n",
    "    y_train_enc = lab_enc.fit_transform(y_train)\n",
    "    y_test_enc = lab_enc.fit_transform(y_test)\n",
    "    \n",
    "    # Fit the model according to the given training data.\n",
    "    lr_clf = LogisticRegression(C=c, solver='liblinear').fit(X_train, y_train_enc)\n",
    "    \n",
    "    # Returns the \"training mean accuracy\" on the given test data and labels.\n",
    "    lr_clf_train_score = lr_clf.score(X_train, y_train_enc)\n",
    "    lr_clf_train_accuracy.append(lr_clf_train_score)\n",
    "    \n",
    "    # Returns the \"generalization mean accuracy\" on the given test data and labels.\n",
    "    lr_clf_test_score = lr_clf.score(X_test, y_test_enc)\n",
    "    lr_clf_test_accuracy.append(lr_clf_test_score)\n",
    "\n",
    "    # Score displayment\n",
    "    print(\"\\nTraining score\\t:\\t\", lr_clf_train_score, \"\\nTest score\\t:\\t\", lr_clf_test_score)\n",
    "    \n",
    "# Plot accuaracy of k-NN Classifer\n",
    "plt.plot(lr_range, lr_clf_train_accuracy, label=\"Logistic Regression classifier - Train accuracy\")\n",
    "plt.plot(lr_range, lr_clf_test_accuracy, label=\"Logistic Regression classifier - Test accuracy\")\n",
    "plt.ylabel(\"Accuracy - Logistic Regression generalization\")\n",
    "plt.xlabel(\"C\")\n",
    "plt.legend()"
   ]
  },
  {
   "cell_type": "markdown",
   "metadata": {},
   "source": [
    "* Se construye nuevamente el modelo de *LogisticRegression* y se realiza la predicción a partir de dicho modelo de clasificación, evidenciando nuevamente el *underfit* reportado."
   ]
  },
  {
   "cell_type": "code",
   "execution_count": 15,
   "metadata": {},
   "outputs": [
    {
     "name": "stdout",
     "output_type": "stream",
     "text": [
      " --- Resutls: Logistic Regression Classification --- \n",
      "\n",
      "Training score\t:\t 0.5399876007439554\n",
      "Test score\t:\t 0.5371287128712872\n",
      "\n",
      "--- Musical taste prediction (TRAIN) ---\n",
      "[1 1 1 ... 1 1 1]\n",
      "\n",
      "--- Musical taste prediction (TEST) ---\n",
      "[1 0 1 1 0 0 1 1 0 0 0 0 1 1 0 1 1 1 1 0 0 1 0 0 1 1 1 1 1 1 1 0 1 1 0 0 1\n",
      " 1 1 1 0 1 1 1 0 1 1 0 0 1 1 0 1 1 1 0 1 1 1 1 1 0 1 0 1 1 0 1 0 0 0 1 1 0\n",
      " 1 1 1 0 0 1 1 0 1 0 0 0 0 0 1 1 0 0 1 1 1 1 0 1 0 1 1 1 0 1 1 1 0 0 0 1 1\n",
      " 0 1 0 0 1 0 1 1 1 1 1 0 0 1 0 0 0 1 0 0 0 0 1 1 0 0 1 0 0 0 1 1 1 1 1 0 1\n",
      " 0 0 1 1 1 0 0 1 0 0 0 0 1 0 1 0 1 1 1 1 1 1 0 1 0 1 1 0 0 0 0 0 1 1 0 0 1\n",
      " 0 0 1 1 0 1 1 1 1 1 1 0 1 1 0 1 1 0 1 1 1 0 1 1 0 0 1 1 0 0 1 1 0 1 0 0 0\n",
      " 0 1 0 1 0 1 1 1 0 1 0 1 1 1 0 1 0 0 0 1 0 0 1 1 1 0 1 0 0 1 0 1 1 0 1 0 1\n",
      " 1 0 0 0 1 1 0 0 1 1 1 0 0 0 1 0 1 1 1 1 1 1 0 1 0 1 1 1 1 1 0 1 1 1 0 1 1\n",
      " 0 0 0 1 0 1 1 0 1 1 1 1 1 1 0 1 0 0 1 0 1 0 0 1 1 0 1 1 1 1 0 1 0 0 0 0 1\n",
      " 0 0 0 0 1 1 1 0 1 0 1 0 0 0 1 0 0 0 0 0 1 0 1 1 1 1 1 1 1 0 1 0 0 1 0 1 1\n",
      " 1 0 0 0 1 1 1 1 0 1 0 0 1 0 0 0 1 0 1 1 0 1 1 0 0 0 1 0 1 1 1 1 1 1]\n"
     ]
    }
   ],
   "source": [
    "# Fit the model according to the given training data.\n",
    "lr_clf = LogisticRegression(solver='liblinear').fit(X_train, y_train)\n",
    "\n",
    "# Returns the \"training mean accuracy\" on the given test data and labels.\n",
    "lr_clf_train_score = lr_clf.score(X_train, y_train)\n",
    "\n",
    "# Returns the \"generalization mean accuracy\" on the given test data and labels.\n",
    "lr_clf_test_score  = lr_clf.score(X_test, y_test)\n",
    "\n",
    "# RESULTS\n",
    "print(\" --- Resutls: Logistic Regression Classification --- \")\n",
    "\n",
    "# Score displayment\n",
    "print(\"\\nTraining score\\t:\\t\", lr_clf_train_score)\n",
    "print(\"Test score\\t:\\t\", lr_clf_test_score)\n",
    "\n",
    "# Perform classification on an array of test vectors X.\n",
    "print(\"\\n--- Musical taste prediction (TRAIN) ---\")\n",
    "print(lr_clf.predict(X_train))\n",
    "\n",
    "print(\"\\n--- Musical taste prediction (TEST) ---\")\n",
    "print(lr_clf.predict(X_test))"
   ]
  },
  {
   "cell_type": "markdown",
   "metadata": {},
   "source": [
    "### 3. Clasificación: Usando la Regresión tipo RIDGE\n",
    "\n",
    "* Implementación de un clasificador basado en el algoritmo de regresión de RIDGE."
   ]
  },
  {
   "cell_type": "code",
   "execution_count": 16,
   "metadata": {},
   "outputs": [],
   "source": [
    "from sklearn.kernel_ridge import KernelRidge\n",
    "from sklearn.linear_model import RidgeClassifier\n",
    "\n",
    "# Init Train/Test Scores\n",
    "kr_reg_train_score = 0.0\n",
    "kr_reg_test_score = 0.0\n",
    "\n",
    "rid_clf_train_score = 0.0\n",
    "rid_clf_test_score = 0.0"
   ]
  },
  {
   "cell_type": "markdown",
   "metadata": {},
   "source": [
    "* A continuación, se implementa el modelo para el clasificador mencionado, donde se obtienen los puntajes asociados a la predicción del set de entrenamiento y de pruebas, y es posible observar un comportamiento *underfit*; finalmente, se somete el modelo a la ejecución de la predcción respectiva."
   ]
  },
  {
   "cell_type": "code",
   "execution_count": 17,
   "metadata": {},
   "outputs": [
    {
     "name": "stdout",
     "output_type": "stream",
     "text": [
      " --- Results: Ridge Classification --- \n",
      "\n",
      "Training score\t:\t 0.6658400495970241 \n",
      "Test score\t:\t 0.655940594059406\n",
      "\n",
      "--- Musical taste prediction (TRAIN) ---\n",
      "[0 1 0 ... 0 0 1]\n",
      "\n",
      "--- Musical taste prediction (TEST) ---\n",
      "[0 0 0 1 0 0 1 1 0 0 0 1 1 0 1 0 1 0 1 0 0 0 0 0 1 0 1 0 1 1 0 1 1 1 0 0 0\n",
      " 1 1 1 0 1 1 0 0 0 1 1 1 1 1 1 0 0 1 0 1 1 1 1 1 1 1 0 1 1 1 0 1 0 1 0 0 0\n",
      " 0 1 0 0 0 1 0 1 1 0 0 0 0 0 0 0 1 1 0 1 1 1 1 0 0 0 1 1 0 0 1 0 1 0 0 1 1\n",
      " 0 1 0 0 0 1 1 0 0 0 1 0 1 0 0 1 1 1 0 0 1 1 1 1 0 1 0 1 0 0 1 1 0 0 1 1 1\n",
      " 1 0 0 1 1 0 0 0 1 0 0 1 1 0 1 0 0 1 0 1 0 1 0 1 0 1 0 1 1 1 1 0 1 0 0 0 1\n",
      " 0 1 1 1 1 0 0 1 0 1 0 0 1 1 0 1 1 1 1 0 1 0 0 0 1 0 0 1 0 0 0 0 0 1 0 0 1\n",
      " 0 1 1 0 0 1 1 0 0 1 0 1 0 0 0 0 0 0 1 0 1 0 1 0 1 0 1 1 1 1 1 1 0 0 1 0 1\n",
      " 1 1 0 1 1 0 0 1 1 1 0 0 1 0 1 0 1 0 1 0 0 1 0 0 1 0 0 1 0 1 1 1 0 1 0 0 1\n",
      " 0 1 1 1 0 1 0 1 0 1 1 1 0 1 1 1 0 1 1 0 1 0 1 1 1 1 1 1 1 0 1 0 1 0 0 0 1\n",
      " 0 1 1 0 1 1 1 1 1 1 0 0 1 0 1 1 0 1 0 0 1 0 0 1 1 0 0 1 0 0 0 0 1 1 0 1 0\n",
      " 1 1 0 0 1 0 0 1 1 1 0 1 1 1 0 1 0 0 0 1 0 1 1 1 1 0 1 1 1 1 0 0 1 1]\n"
     ]
    }
   ],
   "source": [
    "# Classifier using Ridge regression.\n",
    "rid_clf = RidgeClassifier(alpha=1.0).fit(X_train, y_train)\n",
    "\n",
    "# Returns the \"training mean accuracy\" on the given test data and labels.\n",
    "rid_clf_train_score = rid_clf.score(X_train, y_train)\n",
    "# Returns the \"generalization mean accuracy\" on the given test data and labels.\n",
    "rid_clf_test_score = rid_clf.score(X_test, y_test)\n",
    "\n",
    "# RESULTS\n",
    "print(\" --- Results: Ridge Classification --- \")\n",
    "\n",
    "# Score displayment\n",
    "print(\"\\nTraining score\\t:\\t\", rid_clf_train_score, \"\\nTest score\\t:\\t\", rid_clf_test_score)\n",
    "\n",
    "# Predict using Ridge Classification model\n",
    "print(\"\\n--- Musical taste prediction (TRAIN) ---\")\n",
    "print(rid_clf.predict(X_train))\n",
    "\n",
    "print(\"\\n--- Musical taste prediction (TEST) ---\")\n",
    "print(rid_clf.predict(X_test))"
   ]
  },
  {
   "cell_type": "markdown",
   "metadata": {},
   "source": [
    "### 4. Clasificación: kernel-SVM\n",
    "\n",
    "* Máquina de Vector de Soporte que incluye atributos no lineales, con el objetivo de hacerlo más efectivo a la hora de realizar las predicciones."
   ]
  },
  {
   "cell_type": "code",
   "execution_count": 18,
   "metadata": {},
   "outputs": [],
   "source": [
    "from sklearn.svm import SVC\n",
    "\n",
    "# Init Train/Test Scores\n",
    "svc_clf_train_score = 0.0\n",
    "svc_clf_test_score = 0.0"
   ]
  },
  {
   "cell_type": "markdown",
   "metadata": {},
   "source": [
    "* Ajuste del modelo deseado, donde se considera un **kernel RBF (gaussiano)**, el cual toma en cuenta todos los posibles polinomios de todos los grados, pero a mayor grado, menor relevancia tiene el atributo. Finalmente, se desplieguen los puntajes asociados al entrenamiento y a las pruebas de dicho modelo, donde cabe resaltar que dicho modelo presenta *underfitting*, por lo cual no representa un buen modelo para realizar predicciones del set de pruebas asociado."
   ]
  },
  {
   "cell_type": "code",
   "execution_count": 20,
   "metadata": {},
   "outputs": [
    {
     "name": "stdout",
     "output_type": "stream",
     "text": [
      " --- Results: kernel-Suport Vector Machine Classification --- \n",
      "Training score\t:\t 0.6869187848729076\n",
      "Test score\t:\t 0.5742574257425742\n",
      "\n",
      "--- Musical taste prediction (TRAIN) ---\n",
      "[0 1 0 ... 0 1 1]\n",
      "\n",
      "--- Musical taste prediction (TEST) ---\n",
      "[0 0 0 1 0 1 1 1 0 0 1 0 1 0 0 0 0 0 1 0 1 0 1 0 0 0 0 1 1 1 1 0 1 1 1 0 1\n",
      " 1 0 0 0 0 1 1 0 0 0 0 1 1 1 0 1 0 1 1 1 1 0 0 0 1 0 1 1 1 0 0 1 1 1 1 0 0\n",
      " 1 0 1 0 1 1 1 0 0 0 0 1 0 1 0 1 0 0 0 1 1 1 0 1 0 0 0 1 1 0 1 1 1 0 0 0 1\n",
      " 1 1 1 0 0 0 0 1 0 1 0 1 1 1 0 0 1 1 0 0 1 0 1 1 0 0 0 0 1 0 1 1 1 1 1 1 0\n",
      " 1 0 1 0 1 1 0 0 0 1 0 1 1 1 1 1 1 1 0 1 1 0 0 1 0 1 0 0 0 0 1 0 0 1 0 0 1\n",
      " 0 0 1 0 1 0 0 1 0 1 0 0 1 0 1 1 1 0 0 0 0 0 0 1 1 1 1 1 0 0 1 1 1 1 0 0 0\n",
      " 1 1 0 0 0 1 0 1 1 0 1 1 1 1 1 1 1 0 0 0 0 0 1 0 1 1 0 1 0 1 0 0 0 0 1 1 0\n",
      " 0 1 1 1 1 0 0 0 1 1 1 1 1 0 1 1 1 0 0 0 1 0 0 1 0 1 0 1 0 0 0 0 1 1 1 1 1\n",
      " 0 1 1 0 1 1 0 0 1 0 0 1 0 1 1 0 1 0 1 1 1 0 0 0 0 0 1 1 1 1 0 0 0 0 1 0 1\n",
      " 0 0 1 1 1 1 1 0 0 0 0 0 0 1 1 0 1 0 1 1 0 1 1 1 1 1 0 0 0 1 1 1 1 0 1 1 0\n",
      " 0 0 0 1 0 0 0 1 0 0 0 1 0 0 1 0 0 0 0 1 1 0 0 1 1 0 1 1 0 0 0 0 0 0]\n"
     ]
    }
   ],
   "source": [
    "# Fit the SVM model according to the given training data.\n",
    "svc_clf = SVC(kernel='rbf', gamma='scale').fit(X_train, y_train)\n",
    "\n",
    "# Returns the \"training mean accuracy\" on the given test data and labels.\n",
    "svc_clf_train_score = svc_clf.score(X_train, y_train)\n",
    "\n",
    "# Returns the \"generalization mean accuracy\" on the given test data and labels.\n",
    "svc_clf_test_score  = svc_clf.score(X_test, y_test)\n",
    "\n",
    "print(\" --- Results: kernel-Suport Vector Machine Classification --- \")\n",
    "\n",
    "print(\"Training score\\t:\\t\", svc_clf_train_score)\n",
    "print(\"Test score\\t:\\t\", svc_clf_test_score)\n",
    "\n",
    "# Predict the class labels for the provided data\n",
    "print(\"\\n--- Musical taste prediction (TRAIN) ---\")\n",
    "print(svc_clf.predict(X_train))\n",
    "\n",
    "print(\"\\n--- Musical taste prediction (TEST) ---\")\n",
    "print(svc_clf.predict(X_test))"
   ]
  },
  {
   "cell_type": "markdown",
   "metadata": {},
   "source": [
    "### 5. Clasificación: Random Forest"
   ]
  },
  {
   "cell_type": "markdown",
   "metadata": {},
   "source": [
    "* *Random Forest* es un algoritmo de aprendizaje supervisado del tipo **ensamble** que consiste en un número de árboles de decisión clasificadores en varias sub-muestra del set de datos and que usa el promedio para mejorar la precisión de predictiva y el control del *over-fitting*."
   ]
  },
  {
   "cell_type": "code",
   "execution_count": 21,
   "metadata": {},
   "outputs": [],
   "source": [
    "from sklearn.ensemble import RandomForestClassifier\n",
    "\n",
    "# Init n-estimators setting\n",
    "n = 100;\n",
    "\n",
    "# Init Train/Test Scores\n",
    "rf_clf_train_score = 0.0\n",
    "rf_clf_test_score = 0.0"
   ]
  },
  {
   "cell_type": "markdown",
   "metadata": {},
   "source": [
    "* Seguidamente, se construye el clasificador de *Random Forest*, el cual es ajustado al set de entrenamiento respectivo, para así obtener los puntajes de predicción de entrenamiento y de prueba, además de la predicción de los gustos musicales, el cual muestra un **comportamiento balanceado de generalización**, ya que posse una buena predicción tanto para el set de entrenamiento como para el pruebas."
   ]
  },
  {
   "cell_type": "code",
   "execution_count": 23,
   "metadata": {},
   "outputs": [
    {
     "name": "stdout",
     "output_type": "stream",
     "text": [
      " --- Results: RandomForest Classification --- \n",
      "\n",
      "Training score\t:\t 0.9987600743955363 \n",
      "Test score\t:\t 0.7351485148514851\n",
      "\n",
      "Training decision path: (<1613x49574 sparse matrix of type '<class 'numpy.int64'>'\n",
      "\twith 1799981 stored elements in Compressed Sparse Row format>, array([    0,   487,   978,  1477,  1946,  2441,  2964,  3511,  4042,\n",
      "        4557,  5050,  5545,  6066,  6557,  7046,  7515,  8024,  8531,\n",
      "        8996,  9483,  9986, 10509, 11034, 11541, 12052, 12559, 13052,\n",
      "       13577, 14038, 14499, 14998, 15467, 15996, 16467, 16986, 17505,\n",
      "       18028, 18545, 19014, 19519, 20012, 20541, 21072, 21557, 22000,\n",
      "       22507, 22968, 23431, 23938, 24455, 24974, 25425, 25900, 26365,\n",
      "       26874, 27345, 27822, 28285, 28728, 29249, 29708, 30177, 30640,\n",
      "       31123, 31650, 32147, 32658, 33171, 33656, 34147, 34654, 35181,\n",
      "       35682, 36167, 36664, 37189, 37660, 38131, 38644, 39147, 39628,\n",
      "       40151, 40610, 41147, 41618, 42125, 42614, 43091, 43586, 44083,\n",
      "       44568, 45047, 45546, 46037, 46538, 47055, 47546, 48075, 48588,\n",
      "       49085, 49574]))\n",
      "\n",
      "Test decision path: (<404x49574 sparse matrix of type '<class 'numpy.int64'>'\n",
      "\twith 454024 stored elements in Compressed Sparse Row format>, array([    0,   487,   978,  1477,  1946,  2441,  2964,  3511,  4042,\n",
      "        4557,  5050,  5545,  6066,  6557,  7046,  7515,  8024,  8531,\n",
      "        8996,  9483,  9986, 10509, 11034, 11541, 12052, 12559, 13052,\n",
      "       13577, 14038, 14499, 14998, 15467, 15996, 16467, 16986, 17505,\n",
      "       18028, 18545, 19014, 19519, 20012, 20541, 21072, 21557, 22000,\n",
      "       22507, 22968, 23431, 23938, 24455, 24974, 25425, 25900, 26365,\n",
      "       26874, 27345, 27822, 28285, 28728, 29249, 29708, 30177, 30640,\n",
      "       31123, 31650, 32147, 32658, 33171, 33656, 34147, 34654, 35181,\n",
      "       35682, 36167, 36664, 37189, 37660, 38131, 38644, 39147, 39628,\n",
      "       40151, 40610, 41147, 41618, 42125, 42614, 43091, 43586, 44083,\n",
      "       44568, 45047, 45546, 46037, 46538, 47055, 47546, 48075, 48588,\n",
      "       49085, 49574]))\n",
      "\n",
      "--- Musical taste prediction (TRAIN) ---\n",
      "[0 1 0 ... 1 0 0]\n",
      "\n",
      "--- Musical taste prediction (TEST) ---\n",
      "[1 0 0 1 1 0 1 1 1 0 1 0 1 1 0 0 0 0 1 0 0 0 1 0 1 0 1 1 1 1 1 1 1 1 1 1 0\n",
      " 1 1 1 0 1 1 0 0 0 1 0 1 1 1 0 0 1 1 0 1 0 1 1 1 1 0 1 1 1 0 0 1 0 1 0 1 0\n",
      " 0 0 0 0 1 0 1 1 1 0 0 0 0 0 0 0 1 1 0 0 1 1 1 0 0 1 1 1 1 0 1 0 0 0 0 0 0\n",
      " 0 0 0 0 0 0 1 0 0 0 1 0 1 0 0 1 1 1 0 0 1 0 1 1 1 1 0 1 1 0 1 1 0 0 1 0 1\n",
      " 1 0 0 1 0 0 1 0 0 1 0 1 1 0 1 1 1 0 0 1 0 1 1 1 0 0 0 1 0 0 1 0 1 0 0 0 1\n",
      " 0 0 1 0 1 0 0 0 1 1 0 0 1 0 0 0 1 0 1 0 1 0 1 1 1 0 1 1 0 0 0 0 1 0 0 1 0\n",
      " 0 0 0 0 0 1 1 0 1 1 0 0 0 0 0 0 1 0 1 0 1 0 1 0 1 0 0 1 0 1 1 0 0 0 0 1 1\n",
      " 0 1 0 1 1 0 0 0 1 1 0 0 1 1 1 1 0 0 0 0 1 1 0 0 0 0 0 1 0 1 0 1 0 1 0 0 1\n",
      " 0 0 0 0 1 1 0 1 1 1 0 1 0 1 1 1 1 0 0 0 1 0 0 1 0 1 1 1 1 1 1 0 1 0 1 1 1\n",
      " 0 1 1 0 1 1 1 1 0 0 0 0 1 1 1 1 0 1 1 0 1 1 0 1 1 0 0 1 1 1 0 0 1 0 1 0 0\n",
      " 1 1 1 1 0 0 0 0 1 0 0 1 0 0 0 1 1 0 0 1 0 1 1 0 0 0 1 1 0 1 0 0 1 1]\n"
     ]
    }
   ],
   "source": [
    "# Build a forest of trees from the training set (X, y).\n",
    "rf_clf = RandomForestClassifier(n_estimators=n).fit(X_train, y_train)   \n",
    "\n",
    "# Returns the \"training mean accuracy\" on the given test data and labels.\n",
    "rf_clf_train_score = rf_clf.score(X_train, y_train)\n",
    "    \n",
    "# Returns the \"generalization mean accuracy\" on the given test data and labels.\n",
    "rf_clf_test_score = rf_clf.score(X_test, y_test)\n",
    "\n",
    "# RESULTS\n",
    "print(\" --- Results: RandomForest Classification --- \")\n",
    "\n",
    "# Score displayment\n",
    "print(\"\\nTraining score\\t:\\t\", rf_clf_train_score, \"\\nTest score\\t:\\t\", rf_clf_test_score)\n",
    "\n",
    "# Return decision_path\n",
    "print(\"\\nTraining decision path:\", rf_clf.decision_path(X_train))\n",
    "print(\"\\nTest decision path:\", rf_clf.decision_path(X_test))\n",
    "\n",
    "# The predicted regression target of an input sample is computed as the \n",
    "# mean predicted regression targets of the trees in the forest\n",
    "print(\"\\n--- Musical taste prediction (TRAIN) ---\")\n",
    "print(rf_clf.predict(X_train))\n",
    "\n",
    "print(\"\\n--- Musical taste prediction (TEST) ---\")\n",
    "print(rf_clf.predict(X_test))"
   ]
  },
  {
   "cell_type": "markdown",
   "metadata": {},
   "source": [
    "### 6. Clasificación: AdaBoost\n",
    "\n",
    "* Un clasificador *AdaBoost* es un estimador del tipo **ensamble**, el cual consiste inicialmente en un clasificador en el dataset original, donde luego ajusta copia adicionales del clasificador en el mismo dataset."
   ]
  },
  {
   "cell_type": "code",
   "execution_count": 24,
   "metadata": {},
   "outputs": [],
   "source": [
    "from sklearn.ensemble import AdaBoostClassifier\n",
    "\n",
    "# Init Train/Test Scores\n",
    "boost_clf_train_score = 0.0\n",
    "boost_clf_test_score = 0.0\n",
    "\n",
    "# Init n-estimators setting\n",
    "n = 100;"
   ]
  },
  {
   "cell_type": "markdown",
   "metadata": {},
   "source": [
    "* Construcción del clasificador *AdaBoost* empleando 100 estimadores, donde se obtienen los puntajes de predicción tanto para el set de entrenamiento como para el de pruebas, lo cual, al igual que el clasificador de *Random Forest*, refleja la capacidad de dicho modelo de aprendizaje de hacer predicciones correctas a partir del conjunto de entrenamiento"
   ]
  },
  {
   "cell_type": "code",
   "execution_count": 25,
   "metadata": {},
   "outputs": [
    {
     "name": "stdout",
     "output_type": "stream",
     "text": [
      " --- AdaBoost Classification --- \n",
      "\n",
      "Training score\t:\t 0.8034717916924985 \n",
      "Test score\t:\t 0.7252475247524752\n",
      "\n",
      "--- Musical taste prediction (TRAIN) ---\n",
      "[0 1 1 ... 0 0 1]\n",
      "\n",
      "--- Musical taste prediction (TEST) ---\n",
      "[0 0 0 1 0 0 0 1 0 0 1 0 1 1 0 0 1 0 1 0 0 0 1 0 1 0 0 1 1 1 0 1 1 1 1 1 0\n",
      " 1 1 1 0 1 1 0 0 0 1 0 1 1 0 0 0 1 1 0 1 0 0 1 1 0 0 0 1 1 1 0 1 1 1 0 0 1\n",
      " 0 1 0 0 1 1 1 1 0 0 0 0 0 1 0 0 1 1 0 0 1 1 1 1 0 1 1 1 1 0 1 0 0 0 0 0 1\n",
      " 1 0 0 0 0 0 1 0 0 0 1 1 1 0 0 1 1 1 0 0 1 0 1 1 1 1 0 1 0 0 1 1 0 0 1 0 1\n",
      " 1 0 0 1 0 0 0 0 0 1 0 1 1 0 1 1 0 0 0 1 0 1 1 1 0 1 0 1 0 1 1 0 1 0 0 0 1\n",
      " 0 0 1 1 1 0 0 0 1 1 0 0 1 0 0 1 1 0 1 1 1 0 1 1 0 0 1 1 0 0 0 0 1 0 0 1 0\n",
      " 0 0 0 0 0 1 1 1 0 1 0 0 0 1 1 0 1 1 1 0 1 0 1 0 1 0 0 1 0 1 1 0 0 1 0 1 1\n",
      " 1 1 0 1 1 0 0 0 1 1 0 0 0 1 1 1 0 0 0 0 1 1 0 0 1 0 0 1 0 1 1 1 1 1 1 1 1\n",
      " 0 0 0 0 1 1 0 1 0 0 0 1 0 0 1 1 1 1 0 0 1 0 1 1 1 1 1 1 1 1 1 0 1 0 1 0 1\n",
      " 0 1 1 0 1 1 1 1 0 0 0 1 1 1 1 1 0 1 1 0 1 1 0 1 1 0 0 1 0 0 0 1 0 1 1 1 0\n",
      " 1 0 1 1 0 0 0 0 1 1 0 1 0 1 0 1 1 0 0 1 1 1 1 1 0 0 1 1 0 1 0 0 1 1]\n"
     ]
    }
   ],
   "source": [
    "# Build a boosted classifier from the training set (X, y).\n",
    "boost_clf = AdaBoostClassifier(n_estimators=n).fit(X_train, y_train)\n",
    "\n",
    "# In multi-label classification, this is the subset accuracy which is a harsh metric since \n",
    "# you require for each sample that each label set be correctly predicted.\n",
    "\n",
    "# Returns the \"training mean accuracy\" on the given test data and labels.\n",
    "boost_clf_train_score = boost_clf.score(X_train, y_train)\n",
    "# Returns the \"generalization mean accuracy\" on the given test data and labels.\n",
    "boost_clf_test_score = boost_clf.score(X_test, y_test)\n",
    "\n",
    "# RESULTS\n",
    "print(\" --- AdaBoost Classification --- \")\n",
    "\n",
    "# Score displayment\n",
    "print(\"\\nTraining score\\t:\\t\", boost_clf_train_score, \"\\nTest score\\t:\\t\", boost_clf_test_score)\n",
    "\n",
    "# Predict classes for X:\n",
    "# The predicted class of an input sample is computed as the weighted mean prediction of \n",
    "# the classifiers in the ensemble.\n",
    "print(\"\\n--- Musical taste prediction (TRAIN) ---\")\n",
    "print(boost_clf.predict(X_train))\n",
    "\n",
    "print(\"\\n--- Musical taste prediction (TEST) ---\")\n",
    "print(boost_clf.predict(X_test))"
   ]
  },
  {
   "cell_type": "markdown",
   "metadata": {},
   "source": [
    "### Referencias\n",
    "\n",
    "* https://scikit-learn.org/stable/supervised_learning.html#supervised-learning\n",
    "\n",
    "* https://www.kaggle.com/geomack/spotifyclassification\n",
    "\n",
    "* https://developer.spotify.com/documentation/web-api/reference/tracks/get-audio-features/\n",
    "\n",
    "* https://scikit-learn.org/stable/modules/generated/sklearn.neighbors.KNeighborsClassifier.html#sklearn.neighbors.KNeighborsClassifier\n",
    "\n",
    "* https://scikit-learn.org/stable/modules/generated/sklearn.linear_model.LogisticRegression.html#sklearn.linear_model.LogisticRegression\n",
    "\n",
    "* https://scikit-learn.org/stable/modules/generated/sklearn.linear_model.RidgeClassifier.html\n",
    "\n",
    "* https://scikit-learn.org/stable/modules/generated/sklearn.svm.SVC.html#sklearn.svm.SVC\n",
    "\n",
    "* https://scikit-learn.org/stable/modules/generated/sklearn.ensemble.RandomForestClassifier#\n",
    "\n",
    "* https://scikit-learn.org/stable/modules/generated/sklearn.ensemble.AdaBoostClassifier.html#sklearn.ensemble.AdaBoostClassifier"
   ]
  },
  {
   "cell_type": "code",
   "execution_count": null,
   "metadata": {},
   "outputs": [],
   "source": []
  }
 ],
 "metadata": {
  "kernelspec": {
   "display_name": "Python 3",
   "language": "python",
   "name": "python3"
  },
  "language_info": {
   "codemirror_mode": {
    "name": "ipython",
    "version": 3
   },
   "file_extension": ".py",
   "mimetype": "text/x-python",
   "name": "python",
   "nbconvert_exporter": "python",
   "pygments_lexer": "ipython3",
   "version": "3.7.2"
  }
 },
 "nbformat": 4,
 "nbformat_minor": 2
}
